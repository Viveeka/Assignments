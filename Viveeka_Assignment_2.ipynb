{
 "cells": [
  {
   "cell_type": "markdown",
   "metadata": {},
   "source": [
    "# Task1 "
   ]
  },
  {
   "cell_type": "code",
   "execution_count": 18,
   "metadata": {},
   "outputs": [
    {
     "data": {
      "text/plain": [
       "10"
      ]
     },
     "execution_count": 18,
     "metadata": {},
     "output_type": "execute_result"
    }
   ],
   "source": [
    "\"\"\"\n",
    "1.1:\n",
    "Write a Python Program to implement your own myreduce() function which works exactly\n",
    "like Python's built-in function reduce()\n",
    "1.2:\n",
    "Write a Python program to implement your own myfilter() function which works exactly\n",
    "like Python's built-in function filter()\n",
    "\"\"\"\n",
    "\n",
    "from functools import reduce\n",
    "\n",
    "def do_sum(x1, x2): \n",
    "    return x1 + x2\n",
    "reduce(do_sum, [1, 2, 3, 4])\n",
    "\n"
   ]
  },
  {
   "cell_type": "code",
   "execution_count": 4,
   "metadata": {},
   "outputs": [
    {
     "data": {
      "text/plain": [
       "200"
      ]
     },
     "execution_count": 4,
     "metadata": {},
     "output_type": "execute_result"
    }
   ],
   "source": [
    "from functools import reduce\n",
    "def do_mul(a,b):\n",
    "    return a*b\n",
    "reduce(do_mul,[10,20])"
   ]
  },
  {
   "cell_type": "code",
   "execution_count": 23,
   "metadata": {},
   "outputs": [
    {
     "name": "stdout",
     "output_type": "stream",
     "text": [
      "Sum on list [1,2,3] using custom reduce function 6\n",
      "Sum on list [1,2,3] using custom reduce function 60\n"
     ]
    }
   ],
   "source": [
    "# Reduce will produce a single result\n",
    "def myreduce(anyfunc, sequence):\n",
    "\n",
    " # Get first item in sequence and assign to result\n",
    "  result = sequence[0]\n",
    " # iterate over remaining items in sequence and apply reduction function \n",
    "  for item in sequence[1:]:\n",
    "   result = anyfunc(result, item)\n",
    "\n",
    "  return result\n",
    "\n",
    "# test myreduce function\n",
    "def sum(x,y): return x + y\n",
    "def mul(x,y): return x * y\n",
    "\n",
    "print (\"Sum on list [1,2,3] using custom reduce function \"   + str(myreduce(sum, [1,2,3])) )\n",
    "print (\"Sum on list [1,2,3] using custom reduce function \"   + str(myreduce(mul, [4,5,3])) )\n"
   ]
  },
  {
   "cell_type": "code",
   "execution_count": 7,
   "metadata": {},
   "outputs": [
    {
     "name": "stdout",
     "output_type": "stream",
     "text": [
      "Filter only multiples of two on list [2,3,4,5,6,8,10] using custom filter function[2, 4, 6, 8, 10]\n"
     ]
    }
   ],
   "source": [
    "# Custom filter function \n",
    "def myfilter(anyfunc, sequence):\n",
    "\n",
    " # Initialize empty list\n",
    " result = []\n",
    " # iterate over sequence of items in sequence and apply filter function\n",
    " for item in sequence:\n",
    "  if anyfunc(item):\n",
    "   result.append(item)\n",
    "\n",
    " # return final output\n",
    " return result\n",
    "\n",
    "\n",
    "# test myfilter function\n",
    "def muloftwo(x):\n",
    " if (x%2== 0): \n",
    "  return True \n",
    " else: \n",
    "  return False\n",
    "\n",
    "print (\"Filter only multiples of two on list [2,3,4,5,6,8,10] using custom filter function\"  + str(myfilter(muloftwo, [2,3,4,5,6,8,10])))"
   ]
  },
  {
   "cell_type": "markdown",
   "metadata": {},
   "source": [
    "#### Implement List comprehensions to produce the following lists."
   ]
  },
  {
   "cell_type": "code",
   "execution_count": 28,
   "metadata": {},
   "outputs": [
    {
     "name": "stdout",
     "output_type": "stream",
     "text": [
      "ACADGLID => ['A', 'C', 'A', 'D', 'G', 'L', 'I', 'D']\n",
      "['x','y','z'] => ['x', 'xx', 'xxx', 'xxxx', 'y', 'yy', 'yyy', 'yyyy', 'z', 'zz', 'zzz', 'zzzz']\n",
      "['x','y','z'] => ['x', 'y', 'z', 'xx', 'yy', 'zz', 'xxx', 'yyy', 'zzz', 'xxxx', 'yyyy', 'zzzz']\n",
      "[2,3,4] => [[2], [3], [4], [3], [4], [5], [4], [5], [6]]\n",
      "[2,3,4,5] =>[[2, 3, 4, 5], [3, 4, 5, 6], [4, 5, 6, 7], [5, 6, 7, 8]]\n",
      "[1,2,3] =>[(1, 1), (2, 1), (3, 1), (1, 2), (2, 2), (3, 2), (1, 3), (2, 3), (3, 3)]\n"
     ]
    }
   ],
   "source": [
    "'''\n",
    "Implement List comprehensions to produce the following lists.\n",
    "Write List comprehensions to produce the following Lists\n",
    "\n",
    "['A', 'C', 'A', 'D', 'G', 'I', ’L’, ‘ D’]\n",
    "['x', 'xx', 'xxx', 'xxxx', 'y', 'yy', 'yyy', 'yyyy', 'z', 'zz', 'zzz', 'zzzz']\n",
    "['x', 'y', 'z', 'xx', 'yy', 'zz', 'xxx', 'yyy', 'zzz', 'xxxx', 'yyyy', 'zzzz']\n",
    "[[2], [3], [4], [3], [4], [5], [4], [5], [6]]\n",
    "[[2, 3, 4, 5], [3, 4, 5, 6], [4, 5, 6, 7], [5, 6, 7, 8]]\n",
    "[(1, 1), (2, 1), (3, 1), (1, 2), (2, 2), (3, 2), (1, 3), (2, 3), (3, 3)]\n",
    "\n",
    "'''\n",
    "\n",
    "word = \"ACADGLID\"\n",
    "alphabetlist = [alphabet for alphabet in word ]\n",
    "print(\"ACADGLID => \" + str(alphabetlist))\n",
    "\n",
    "list_times = range(1,5)\n",
    "list_letter = ['x','y','z']\n",
    "result = [k*n for n in list_letter for k in list_times]\n",
    "print(\"['x','y','z'] => \" +   str(result))\n",
    "\n",
    "\n",
    "input_list = ['x','y','z']\n",
    "result = [ i*n for n in range(1,5) for i in input_list]\n",
    "print(\"['x','y','z'] => \" +   str(result))\n",
    "\n",
    "input_list =[2,3,4]\n",
    "result= [[i+n] for i in input_list for n in range(0,3)]\n",
    "print(\"[2,3,4] => \" +   str(result))\n",
    "\n",
    "input_list = [2,3,4,5]\n",
    "result = [ [i+n for i in input_list] for n in range(0,4)  ]\n",
    "print(\"[2,3,4,5] =>\" +  str(result))\n",
    "\n",
    "input_list=[1,2,3]\n",
    "result = [ (b,a) for a in input_list for b in input_list]\n",
    "print(\"[1,2,3] =>\" +  str(result))"
   ]
  },
  {
   "cell_type": "code",
   "execution_count": 29,
   "metadata": {},
   "outputs": [
    {
     "name": "stdout",
     "output_type": "stream",
     "text": [
      "Longest word in array [\"This\",\"is\",\"a\",\"beautiful\",\"morning\"] => beautiful\n"
     ]
    }
   ],
   "source": [
    "\"\"\"\n",
    "Problem Statement:\n",
    "Implement a function longestWord() that takes a list of words and returns the longest one.\n",
    "\"\"\"\n",
    "\n",
    "from functools import reduce\n",
    "list_words = [\"This\",\"is\",\"a\",\"beautiful\",\"morning\"]\n",
    "\n",
    "# Function to compare and reduce list to the result\n",
    "def longestWord(list_words):\n",
    " return reduce( (lambda x,y:y if len(y) > len(x) else x), list_words )\n",
    "\n",
    "print ('Longest word in array [\"This\",\"is\",\"a\",\"beautiful\",\"morning\"] => ' + longestWord(list_words) )"
   ]
  },
  {
   "cell_type": "code",
   "execution_count": 42,
   "metadata": {},
   "outputs": [
    {
     "data": {
      "text/plain": [
       "'Learning'"
      ]
     },
     "execution_count": 42,
     "metadata": {},
     "output_type": "execute_result"
    }
   ],
   "source": [
    "def find_longest_word(list1):\n",
    "    long_word = ''\n",
    "    for x in list1:\n",
    "        if (len(x) > len(long_word)): \n",
    "            long_word = x\n",
    "    return long_word    \n",
    "   \n",
    "find_longest_word([\"Machine\",\"Learning\",\"Course\"] )"
   ]
  },
  {
   "cell_type": "markdown",
   "metadata": {},
   "source": [
    "# Task2"
   ]
  },
  {
   "cell_type": "code",
   "execution_count": 1,
   "metadata": {},
   "outputs": [
    {
     "name": "stdout",
     "output_type": "stream",
     "text": [
      "Enter the value of a = 8\n",
      "Enter the value of b = 8\n",
      "Enter the value of c = 8\n",
      "area : 27.712812921102035\n"
     ]
    }
   ],
   "source": [
    "'''\n",
    "Write a Python Program(with class concepts) to find the area of the triangle using the below\n",
    "formula.\n",
    "area = (s*(s-a)*(s-b)*(s-c)) ** 0.5\n",
    "Function to take the length of the sides of triangle from user should be defined in the parent\n",
    "class and function to calculate the area should be defined in subclass.\n",
    "'''\n",
    "class Triangle:\n",
    " \n",
    "    def __init__(self,a,b,c):\n",
    "        self.a = float(a)\n",
    "        self.b = float(b)\n",
    "        self.c = float(c)\n",
    " \n",
    "    def area(self):\n",
    "        s=(self.a + self.b + self.c)/2\n",
    "        return((s*(s-self.a)*(s-self.b)*(s-self.c))**0.5)\n",
    " \n",
    "a=input(\"Enter the value of a = \")\n",
    "b=input(\"Enter the value of b = \")\n",
    "c=input(\"Enter the value of c = \")\n",
    "t = Triangle(a, b, c)\n",
    "print(\"area : {}\".format(t.area()))\n"
   ]
  },
  {
   "cell_type": "code",
   "execution_count": 3,
   "metadata": {},
   "outputs": [
    {
     "name": "stdout",
     "output_type": "stream",
     "text": [
      "Enter few words:just,moment,say,hello,hi\n",
      "Enter Min Length:5\n",
      "Words with atleast min length: ['moment', 'hello']\n"
     ]
    }
   ],
   "source": [
    "'''\n",
    "Write a function filter_long_words() that takes a list of words and an integer n and returns\n",
    "the list of words that are longer than n.\n",
    "'''\n",
    "\n",
    "def filter_longer_words(l,a):\n",
    "    words=[]\n",
    "    for i in l:\n",
    "        if(len(i)>=a):\n",
    "            words.append(i)\n",
    "    return words\n",
    "\n",
    "word_list=input(\"Enter few words:\")\n",
    "word_list_sep = word_list.split(\",\")\n",
    "n=input(\"Enter Min Length:\")\n",
    "long=filter_longer_words(word_list_sep,int(n))\n",
    "\n",
    "print(\"Words with atleast min length:\",long)"
   ]
  },
  {
   "cell_type": "code",
   "execution_count": 10,
   "metadata": {},
   "outputs": [
    {
     "name": "stdout",
     "output_type": "stream",
     "text": [
      "List of words:['practice', 'makes', 'a', 'man', 'perfect']\n",
      "List of wordlength:[8, 5, 1, 3, 7]\n"
     ]
    }
   ],
   "source": [
    "'''\n",
    "Write a Python program using function concept that maps list of words into a list of integers \n",
    "representing the lengths of the corresponding words\n",
    "'''\n",
    "def length_words(list_words):\n",
    "    list_ints = []\n",
    "    for i in range(len(list_words)):\n",
    "        list_ints.append(len(list_words[i]))\n",
    "    print (\"List of words:\"+str(list_words))  \n",
    "    print (\"List of wordlength:\"+str(list_ints))\n",
    "\n",
    "length_words(['practice', 'makes', 'a', 'man', 'perfect'])"
   ]
  },
  {
   "cell_type": "code",
   "execution_count": 11,
   "metadata": {},
   "outputs": [
    {
     "name": "stdout",
     "output_type": "stream",
     "text": [
      "Please enter alphabet of your choice: h\n",
      "False\n"
     ]
    }
   ],
   "source": [
    "'''\n",
    "Write a Python function which takes a character (i.e. a string of length 1) and returns True if it is\n",
    "a vowel, False otherwise.\n",
    "'''\n",
    "def is_vowel(char):\n",
    "    vowels = 'a', 'e', 'i', 'o', 'u'\n",
    "    return char in vowels\n",
    "character = input(\"Please enter alphabet of your choice: \")\n",
    "print(is_vowel(character))"
   ]
  },
  {
   "cell_type": "code",
   "execution_count": null,
   "metadata": {},
   "outputs": [],
   "source": []
  },
  {
   "cell_type": "code",
   "execution_count": null,
   "metadata": {},
   "outputs": [],
   "source": []
  },
  {
   "cell_type": "code",
   "execution_count": null,
   "metadata": {},
   "outputs": [],
   "source": []
  }
 ],
 "metadata": {
  "kernelspec": {
   "display_name": "Python 3",
   "language": "python",
   "name": "python3"
  },
  "language_info": {
   "codemirror_mode": {
    "name": "ipython",
    "version": 3
   },
   "file_extension": ".py",
   "mimetype": "text/x-python",
   "name": "python",
   "nbconvert_exporter": "python",
   "pygments_lexer": "ipython3",
   "version": "3.7.4"
  }
 },
 "nbformat": 4,
 "nbformat_minor": 2
}
